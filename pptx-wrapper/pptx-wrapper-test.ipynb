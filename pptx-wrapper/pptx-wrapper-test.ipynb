{
 "cells": [
  {
   "cell_type": "code",
   "execution_count": 7,
   "metadata": {},
   "outputs": [],
   "source": [
    "#!/usr/local/bin/python3\n",
    "from pptx import Presentation\n",
    "from pptx.util import Inches\n",
    "from scipy import ndimage\n",
    "def available_layouts(prs):\n",
    "    layouts = [prs.slide_layouts[n].name for n in range(\n",
    "        len(prs.slide_layouts))]\n",
    "    return layouts\n",
    "\n",
    "\n",
    "def new_slide(prs, layout='Blank'):\n",
    "    layouts = available_layouts(prs)\n",
    "    if layout not in layouts:\n",
    "        print('No layout by that name! Available layouts:\\n')\n",
    "        print(layouts)\n",
    "        return\n",
    "    slide = prs.slides.add_slide(prs.slide_layouts[layouts.index(layout)])\n",
    "    for shape in slide.placeholders:\n",
    "        print('%d %s' % (shape.placeholder_format.idx, shape.name))\n",
    "    return slide\n",
    "\n",
    "\n",
    "template = '/Users/bobspunt/Github/python-hoard/pptx-wrapper/template.pptx'\n",
    "prs = Presentation(template)\n",
    "layouts = available_layouts(prs)\n",
    "images = files('~/Desktop/short2long_new/*png')\n",
    "p,title,e = fileparts(images)\n",
    "title = [s.replace('_', ' ') for s in title]\n",
    "imdict = dict(zip(title, images))\n",
    "for t, fn in imdict.items():\n",
    "\n",
    "    slide = new_slide(prs, layout='Title Only')\n",
    "    slide.shapes.title.text = t\n",
    "    pic = slide.shapes.add_picture(fn, 0, 0)\n",
    "\n",
    "prs.save('test.pptx')\n",
    "!open test.pptx"
   ]
  }
 ],
 "metadata": {
  "kernelspec": {
   "display_name": "Python 3",
   "language": "python",
   "name": "python3"
  },
  "language_info": {
   "codemirror_mode": {
    "name": "ipython",
    "version": 3
   },
   "file_extension": ".py",
   "mimetype": "text/x-python",
   "name": "python",
   "nbconvert_exporter": "python",
   "pygments_lexer": "ipython3",
   "version": "3.6.5"
  }
 },
 "nbformat": 4,
 "nbformat_minor": 2
}
